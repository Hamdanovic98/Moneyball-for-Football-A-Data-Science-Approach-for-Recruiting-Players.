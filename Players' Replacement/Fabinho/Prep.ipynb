{
 "cells": [
  {
   "cell_type": "code",
   "execution_count": 1,
   "id": "5e716824",
   "metadata": {},
   "outputs": [],
   "source": [
    "import pandas as pd\n",
    "import numpy as np\n",
    "from PIL import Image\n",
    "from mplsoccer import PyPizza, add_image, FontManager\n",
    "import urllib.request"
   ]
  },
  {
   "cell_type": "code",
   "execution_count": 2,
   "id": "8f582b36",
   "metadata": {},
   "outputs": [
    {
     "name": "stdout",
     "output_type": "stream",
     "text": [
      "Current maximum number of rows:  60\n",
      "Current maximum number of columns:  20\n",
      "Updated maximum number of rows:  500\n",
      "Updated maximum number of columns:  500\n"
     ]
    }
   ],
   "source": [
    "\n",
    "# Display the current settings\n",
    "print(\"Current maximum number of rows: \", pd.get_option('display.max_rows'))\n",
    "print(\"Current maximum number of columns: \", pd.get_option('display.max_columns'))\n",
    "\n",
    "# Set new maximum number of rows and columns\n",
    "pd.set_option('display.max_rows', 500)\n",
    "pd.set_option('display.max_columns', 500)\n",
    "\n",
    "# Display the updated settings\n",
    "print(\"Updated maximum number of rows: \", pd.get_option('display.max_rows'))\n",
    "print(\"Updated maximum number of columns: \", pd.get_option('display.max_columns'))\n"
   ]
  },
  {
   "cell_type": "code",
   "execution_count": 3,
   "id": "44586f39",
   "metadata": {},
   "outputs": [
    {
     "name": "stdout",
     "output_type": "stream",
     "text": [
      "Miscellaneous_2020.csv\n",
      "Players_Standard_2020.csv\n",
      "Passing_2020.csv\n",
      "Defense_2020.csv\n",
      "Passing_Type_2020.csv\n",
      "Shooting_2020.csv\n",
      "Possession_2020.csv\n",
      "Goal_Creating_Actions_2020.csv\n"
     ]
    }
   ],
   "source": [
    "import os\n",
    "\n",
    "folder_path = \"../../Data Collection\"  # Replace with the actual folder path\n",
    "\n",
    "files = os.listdir(folder_path+'/2020/')\n",
    "\n",
    "for file in files:\n",
    "    print(file)\n"
   ]
  },
  {
   "cell_type": "code",
   "execution_count": 4,
   "id": "c152b11f",
   "metadata": {},
   "outputs": [],
   "source": [
    "def filter_player(dataframe, player_name='Fabinho'):\n",
    "    return dataframe[dataframe['Player'] == player_name]\n",
    "\n",
    "pas_2020 = filter_player(pd.read_csv(folder_path+'/2020/Passing_2020.csv').fillna(0))\n",
    "pas_2022 = filter_player(pd.read_csv(folder_path+'/2022/Passing_2022.csv').fillna(0))\n",
    "pas_2019 = filter_player(pd.read_csv(folder_path+'/2019/Passing_2019.csv').fillna(0))\n",
    "gca_2020 = filter_player(pd.read_csv(folder_path+'/2020/Goal_Creating_Actions_2020.csv').fillna(0))\n",
    "gca_2022 = filter_player(pd.read_csv(folder_path+'/2022/Goal_Creating_Actions_2022.csv').fillna(0))\n",
    "gca_2019 = filter_player(pd.read_csv(folder_path+'/2019/Goal_Creating_Actions_2019.csv').fillna(0))\n",
    "poss_2020 = filter_player(pd.read_csv(folder_path+'/2020/Possession_2020.csv').fillna(0))\n",
    "poss_2022 = filter_player(pd.read_csv(folder_path+'/2022/Possession_2022.csv').fillna(0))\n",
    "poss_2019 = filter_player(pd.read_csv(folder_path+'/2019/Possession_2019.csv').fillna(0))\n",
    "sh_2020 = filter_player(pd.read_csv(folder_path+'/2020/Shooting_2020.csv').fillna(0))\n",
    "sh_2022 = filter_player(pd.read_csv(folder_path+'/2022/Shooting_2022.csv').fillna(0))\n",
    "sh_2019 = filter_player(pd.read_csv(folder_path+'/2019/Shooting_2019.csv').fillna(0))\n",
    "past_2020 = filter_player(pd.read_csv(folder_path+'/2020/Passing_Type_2020.csv').fillna(0))\n",
    "past_2022 = filter_player(pd.read_csv(folder_path+'/2022/Passing_Type_2022.csv').fillna(0))\n",
    "past_2019 = filter_player(pd.read_csv(folder_path+'/2019/Passing_Type_2019.csv').fillna(0))\n",
    "misc_2020 = filter_player(pd.read_csv(folder_path+'/2020/Miscellaneous_2020.csv').fillna(0))\n",
    "misc_2022 = filter_player(pd.read_csv(folder_path+'/2022/Miscellaneous_2022.csv').fillna(0))\n",
    "misc_2019 = filter_player(pd.read_csv(folder_path+'/2019/Miscellaneous_2019.csv').fillna(0))\n",
    "st_2020 = filter_player(pd.read_csv(folder_path+'/2020/Players_Standard_2020.csv').fillna(0))\n",
    "st_2022 = filter_player(pd.read_csv(folder_path+'/2022/Players_Standard_2022.csv').fillna(0))\n",
    "st_2019 = filter_player(pd.read_csv(folder_path+'/2019/Players_Standard_2019.csv').fillna(0))\n"
   ]
  },
  {
   "cell_type": "code",
   "execution_count": 5,
   "id": "89e23188",
   "metadata": {},
   "outputs": [
    {
     "data": {
      "text/plain": [
       "Index(['Unnamed: 0', 'Player', 'Nation', 'Pos', 'Squad', 'Comp', 'Age', 'Born',\n",
       "       'MP', 'Starts', 'Min', '90s', 'Goals', 'Assists', 'G+A', 'G-PK', 'PK',\n",
       "       'PKatt', 'Yellow', 'Red', 'xG', 'npxG', 'xAG', 'npxG+xAG',\n",
       "       'Prg_Carries', 'Prg_Passes', 'Prg_Passes_Received', 'Goals_per90',\n",
       "       'Assits_per90', 'G+A_per90', 'G-PK_per90', 'G+A-PK_per90', 'xG_per90',\n",
       "       'xAG_per90', 'xG+xAG_per90', 'npxG_per90', 'npxG+xAG_per90', 'Matches',\n",
       "       'Prg_Carries_per_90', 'Prg_Passes_per_90',\n",
       "       'Prg_Passes_Received_per_90'],\n",
       "      dtype='object')"
      ]
     },
     "execution_count": 5,
     "metadata": {},
     "output_type": "execute_result"
    }
   ],
   "source": [
    "# Create new columns by dividing existing columns by '90s'\n",
    "columns_to_divide_by_90s = ['Prg_Carries', 'Prg_Passes', 'Prg_Passes_Received']\n",
    "\n",
    "for column in columns_to_divide_by_90s:\n",
    "    st_2020[column + '_per_90'] = round(st_2020[column] / st_2020['90s'],2)\n",
    "    st_2022[column + '_per_90'] = round(st_2022[column] / st_2022['90s'],2)\n",
    "    st_2019[column + '_per_90'] = round(st_2019[column] / st_2019['90s'],2)\n",
    "\n",
    "# The DataFrame 'st_2020' now has new columns with values divided by '90s'\n",
    "st_2020.columns\n"
   ]
  },
  {
   "cell_type": "code",
   "execution_count": 6,
   "id": "87f6eefb",
   "metadata": {},
   "outputs": [
    {
     "data": {
      "text/plain": [
       "Index(['Unnamed: 0', 'Player', 'Nation', 'Pos', 'Squad', 'Comp', 'Age', 'Born',\n",
       "       '90s', 'Touches', 'Touches_Def_Pen', 'Touches_Def_3rd',\n",
       "       'Touches_Mid_3rd', 'Touches_Att_3rd', 'Touches_Att_Pen',\n",
       "       'Tocuhes_Live_Balls', 'Take_Ons_Attempted', 'Take_Ons_Succ',\n",
       "       'Take_Ons_Succ%', 'Tackled_Take_Ons', 'Tackled_Take_Ons%', 'Carries',\n",
       "       'Total_Distance', 'Progressive_Distance_Carried', 'Progressive_Carries',\n",
       "       '1/3_Carries', 'Carries_Penalty_Area', 'Miscontrols', 'Dispossessed',\n",
       "       'Passes_Received', 'Progressive_Passes_Received', 'Matches',\n",
       "       'Touches_per_90', 'Touches_Def_Pen_per_90', 'Touches_Def_3rd_per_90',\n",
       "       'Touches_Mid_3rd_per_90', 'Touches_Att_3rd_per_90',\n",
       "       'Touches_Att_Pen_per_90', 'Tocuhes_Live_Balls_per_90',\n",
       "       'Take_Ons_Attempted_per_90', 'Take_Ons_Succ_per_90',\n",
       "       'Tackled_Take_Ons_per_90', 'Carries_per_90', 'Total_Distance_per_90',\n",
       "       'Progressive_Distance_Carried_per_90', 'Progressive_Carries_per_90',\n",
       "       '1/3_Carries_per_90', 'Carries_Penalty_Area_per_90',\n",
       "       'Miscontrols_per_90', 'Dispossessed_per_90', 'Passes_Received_per_90',\n",
       "       'Progressive_Passes_Received_per_90'],\n",
       "      dtype='object')"
      ]
     },
     "execution_count": 6,
     "metadata": {},
     "output_type": "execute_result"
    }
   ],
   "source": [
    "# Create new columns by dividing existing columns by '90s'\n",
    "columns_to_divide_by_90s = ['Touches', 'Touches_Def_Pen', 'Touches_Def_3rd', 'Touches_Mid_3rd', 'Touches_Att_3rd',\n",
    "                            'Touches_Att_Pen', 'Tocuhes_Live_Balls', 'Take_Ons_Attempted', 'Take_Ons_Succ',\n",
    "                            'Tackled_Take_Ons', 'Carries', 'Total_Distance', 'Progressive_Distance_Carried',\n",
    "                            'Progressive_Carries', '1/3_Carries', 'Carries_Penalty_Area', 'Miscontrols', 'Dispossessed',\n",
    "                            'Passes_Received', 'Progressive_Passes_Received']\n",
    "\n",
    "for column in columns_to_divide_by_90s:\n",
    "    poss_2020[column + '_per_90'] = round(poss_2020[column] / poss_2020['90s'],2)\n",
    "    poss_2022[column + '_per_90'] = round(poss_2022[column] / poss_2022['90s'],2)\n",
    "    poss_2019[column + '_per_90'] = round(poss_2019[column] / poss_2019['90s'],2)\n",
    "\n",
    "# The DataFrame 'poss_2020' now has new columns with values divided by '90s'\n",
    "poss_2020.columns\n"
   ]
  },
  {
   "cell_type": "code",
   "execution_count": 7,
   "id": "d08c9038",
   "metadata": {},
   "outputs": [
    {
     "data": {
      "text/plain": [
       "Index(['Unnamed: 0', 'Player', 'Nation', 'Pos', 'Squad', 'Comp', 'Age', 'Born',\n",
       "       '90s', 'Shot_Creating_Action', 'Shot_Creating_Action_per90',\n",
       "       'Pass_Live_Shot', 'Pass_Dead_Shot', 'Take_Ons_Shot', 'Shot-Shot',\n",
       "       'Fouls_drawn_Shot', 'Defensive_Shot', 'Goal_Creating_Action',\n",
       "       'Goal_Creating_Action_90', 'Pass_Live_Goal', 'Pass_Dead_Goal',\n",
       "       'Take_Ons_Goal', 'Shot_Goal', 'Fouls_Drawn_Goal', 'Defensive_Goal',\n",
       "       'Matches', 'Pass_Live_Shot_per_90', 'Pass_Dead_Shot_per_90',\n",
       "       'Take_Ons_Shot_per_90', 'Shot-Shot_per_90', 'Fouls_drawn_Shot_per_90',\n",
       "       'Defensive_Shot_per_90', 'Pass_Live_Goal_per_90',\n",
       "       'Pass_Dead_Goal_per_90', 'Take_Ons_Goal_per_90', 'Shot_Goal_per_90',\n",
       "       'Fouls_Drawn_Goal_per_90', 'Defensive_Goal_per_90'],\n",
       "      dtype='object')"
      ]
     },
     "execution_count": 7,
     "metadata": {},
     "output_type": "execute_result"
    }
   ],
   "source": [
    "# Create new columns by dividing existing columns by '90s'\n",
    "columns_to_divide_by_90s = ['Pass_Live_Shot', 'Pass_Dead_Shot',\n",
    "       'Take_Ons_Shot', 'Shot-Shot', 'Fouls_drawn_Shot', 'Defensive_Shot',\n",
    "        'Pass_Live_Goal','Pass_Dead_Goal', 'Take_Ons_Goal', 'Shot_Goal', 'Fouls_Drawn_Goal',\n",
    "       'Defensive_Goal']\n",
    "\n",
    "for column in columns_to_divide_by_90s:\n",
    "    gca_2020[column + '_per_90'] = round(gca_2020[column] / gca_2020['90s'],2)\n",
    "    gca_2022[column + '_per_90'] = round(gca_2022[column] / gca_2022['90s'],2)\n",
    "    gca_2019[column + '_per_90'] = round(gca_2019[column] / gca_2019['90s'],2)\n",
    "\n",
    "# The DataFrame 'gca_2020' now has new columns with values divided by '90s'\n",
    "gca_2020.columns\n"
   ]
  },
  {
   "cell_type": "code",
   "execution_count": 8,
   "id": "8ce63c19",
   "metadata": {},
   "outputs": [
    {
     "data": {
      "text/plain": [
       "Index(['Unnamed: 0', 'Player', 'Nation', 'Pos', 'Squad', 'Comp', 'Age', 'Born',\n",
       "       '90s', 'Passes_Total_Cmp', 'Passes_Total_Att', 'Passes_Total_Cmp%',\n",
       "       'Passes_TotDist', 'Passes_PrgDist', 'Passes_Short_Cmp',\n",
       "       'Passes_Short_Att', 'Passes_Short_Cmp%', 'Passes_Medium_Cmp',\n",
       "       'Passes_Medium_Att', 'Passes_Medium_Cmp%', 'Passes_Long_Cmp',\n",
       "       'Passes_Long_Att', 'Passes_Long_Cmp%', 'Assists', 'xAG', 'xA', 'A-xAG',\n",
       "       'Key_Passes', 'Passes_1/3', 'Passes_Penalty_Area',\n",
       "       'Crosses_Penalty_Area', 'Progressive_Passes', 'Matches'],\n",
       "      dtype='object')"
      ]
     },
     "execution_count": 8,
     "metadata": {},
     "output_type": "execute_result"
    }
   ],
   "source": [
    "pas_2022.columns"
   ]
  },
  {
   "cell_type": "code",
   "execution_count": 9,
   "id": "3c6667f9",
   "metadata": {},
   "outputs": [
    {
     "data": {
      "text/plain": [
       "Index(['Unnamed: 0', 'Player', 'Nation', 'Pos', 'Squad', 'Comp', 'Age', 'Born',\n",
       "       '90s', 'Passes_Total_Cmp', 'Passes_Total_Att', 'Passes_Total_Cmp%',\n",
       "       'Passes_TotDist', 'Passes_PrgDist', 'Passes_Short_Cmp',\n",
       "       'Passes_Short_Att', 'Passes_Short_Cmp%', 'Passes_Medium_Cmp',\n",
       "       'Passes_Medium_Att', 'Passes_Medium_Cmp%', 'Passes_Long_Cmp',\n",
       "       'Passes_Long_Att', 'Passes_Long_Cmp%', 'Assists', 'xAG', 'xA', 'A-xAG',\n",
       "       'Key_Passes', 'Passes_1/3', 'Passes_Penalty_Area',\n",
       "       'Crosses_Penalty_Area', 'Progressive_Passes', 'Matches',\n",
       "       'Assists_per_90', 'xAG_per_90', 'xA_per_90', 'A-xAG_per_90',\n",
       "       'Key_Passes_per_90', 'Passes_1/3_per_90', 'Passes_Penalty_Area_per_90',\n",
       "       'Crosses_Penalty_Area_per_90', 'Progressive_Passes_per_90'],\n",
       "      dtype='object')"
      ]
     },
     "execution_count": 9,
     "metadata": {},
     "output_type": "execute_result"
    }
   ],
   "source": [
    "# Create new columns by dividing existing columns by '90s'\n",
    "columns_to_divide_by_90s = ['Assists','xAG', 'xA', 'A-xAG', 'Key_Passes', 'Passes_1/3', \n",
    "                            'Passes_Penalty_Area','Crosses_Penalty_Area', 'Progressive_Passes']\n",
    "\n",
    "for column in columns_to_divide_by_90s:\n",
    "    pas_2020[column + '_per_90'] = round(pas_2020[column] / pas_2020['90s'],2)\n",
    "    pas_2022[column + '_per_90'] = round(pas_2022[column] / pas_2022['90s'],2)\n",
    "    pas_2019[column + '_per_90'] = round(pas_2019[column] / pas_2019['90s'],2)\n",
    "\n",
    "# The DataFrame 'pas_2020' now has new columns with values divided by '90s'\n",
    "pas_2020.columns\n"
   ]
  },
  {
   "cell_type": "code",
   "execution_count": 10,
   "id": "9c440cb4",
   "metadata": {},
   "outputs": [
    {
     "data": {
      "text/plain": [
       "Index(['Unnamed: 0', 'Player', 'Nation', 'Pos', 'Squad', 'Comp', 'Age', 'Born',\n",
       "       '90s', 'Passes_Attempted', 'Live_Ball_Passes', 'Dead_Ball_Passes',\n",
       "       'Free_Kick_Passes', 'Through_Balls', 'Switches', 'Crosses',\n",
       "       'Throw_Ins_Taken', 'Corner_Kicks', 'In_Corner_Kicks',\n",
       "       'Out_Corner_Kicks', 'Str_Corner_Kicks', 'Passes_Cmp', 'Passes_Off',\n",
       "       'Passes_Blocked', 'Matches', 'Passes_Attempted_per_90',\n",
       "       'Live_Ball_Passes_per_90', 'Dead_Ball_Passes_per_90',\n",
       "       'Free_Kick_Passes_per_90', 'Through_Balls_per_90', 'Switches_per_90',\n",
       "       'Crosses_per_90', 'Throw_Ins_Taken_per_90', 'Corner_Kicks_per_90',\n",
       "       'In_Corner_Kicks_per_90', 'Out_Corner_Kicks_per_90',\n",
       "       'Str_Corner_Kicks_per_90', 'Passes_Cmp_per_90', 'Passes_Off_per_90',\n",
       "       'Passes_Blocked_per_90'],\n",
       "      dtype='object')"
      ]
     },
     "execution_count": 10,
     "metadata": {},
     "output_type": "execute_result"
    }
   ],
   "source": [
    "# Create new columns by dividing existing columns by '90s'\n",
    "columns_to_divide_by_90s = ['Passes_Attempted', 'Live_Ball_Passes',\n",
    "       'Dead_Ball_Passes', 'Free_Kick_Passes', 'Through_Balls', 'Switches',\n",
    "       'Crosses', 'Throw_Ins_Taken', 'Corner_Kicks', 'In_Corner_Kicks',\n",
    "       'Out_Corner_Kicks', 'Str_Corner_Kicks', 'Passes_Cmp', 'Passes_Off',\n",
    "       'Passes_Blocked']\n",
    "\n",
    "for column in columns_to_divide_by_90s:\n",
    "    past_2020[column + '_per_90'] = round(past_2020[column] / past_2020['90s'],2)\n",
    "    past_2022[column + '_per_90'] = round(past_2022[column] / past_2022['90s'],2)\n",
    "    past_2019[column + '_per_90'] = round(past_2019[column] / past_2019['90s'],2)\n",
    "\n",
    "# The DataFrame 'past_2020' now has new columns with values divided by '90s'\n",
    "past_2020.columns\n"
   ]
  },
  {
   "cell_type": "code",
   "execution_count": 11,
   "id": "64722f46",
   "metadata": {},
   "outputs": [],
   "source": [
    "misc_2020['90s']=st_2020['90s']\n",
    "misc_2022['90s']=st_2022['90s']\n",
    "misc_2019['90s']=st_2019['90s']"
   ]
  },
  {
   "cell_type": "code",
   "execution_count": null,
   "id": "d57ef92e",
   "metadata": {},
   "outputs": [],
   "source": []
  }
 ],
 "metadata": {
  "kernelspec": {
   "display_name": "Python 3 (ipykernel)",
   "language": "python",
   "name": "python3"
  },
  "language_info": {
   "codemirror_mode": {
    "name": "ipython",
    "version": 3
   },
   "file_extension": ".py",
   "mimetype": "text/x-python",
   "name": "python",
   "nbconvert_exporter": "python",
   "pygments_lexer": "ipython3",
   "version": "3.10.9"
  }
 },
 "nbformat": 4,
 "nbformat_minor": 5
}
